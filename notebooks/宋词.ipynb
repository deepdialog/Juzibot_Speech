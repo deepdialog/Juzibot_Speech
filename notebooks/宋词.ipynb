{
 "cells": [
  {
   "cell_type": "code",
   "execution_count": 2,
   "metadata": {},
   "outputs": [],
   "source": [
    "import requests"
   ]
  },
  {
   "cell_type": "code",
   "execution_count": 3,
   "metadata": {},
   "outputs": [],
   "source": [
    "apikey = 'UUkOZ6bZYLm5+TlCb6P0ZP3cc3FWNX8c/kJTsCn9NE8gKiDxt5yIQ=='\n",
    "apisecret = 'o4fClpDjKbeG5VaY9FiokFqaTXOjrNKiXT9kepgOaH6Gm5Ym2GjO+w=='"
   ]
  },
  {
   "cell_type": "code",
   "execution_count": 8,
   "metadata": {},
   "outputs": [],
   "source": [
    "ret = requests.post(\n",
    "    'https://pretrain.aminer.cn/api/v1/poem',\n",
    "    json={\n",
    "        \"key\":\"queue1\",\n",
    "        \"topic\": \"打工人\",\n",
    "        \"author\":\"李白\",\n",
    "        \"speed\": \"normal\",\n",
    "        \"cipai\": \"水调歌头\",\n",
    "        \"apikey\": apikey, \n",
    "        \"apisecret\": apisecret\n",
    "    }\n",
    ")"
   ]
  },
  {
   "cell_type": "code",
   "execution_count": 9,
   "metadata": {},
   "outputs": [
    {
     "data": {
      "text/plain": [
       "{'message': 'failed', 'result': [], 'status': 1}"
      ]
     },
     "execution_count": 9,
     "metadata": {},
     "output_type": "execute_result"
    }
   ],
   "source": [
    "ret.json()  # ['result']['output']['text']"
   ]
  },
  {
   "cell_type": "code",
   "execution_count": null,
   "metadata": {},
   "outputs": [],
   "source": []
  }
 ],
 "metadata": {
  "kernelspec": {
   "display_name": "Python 3",
   "language": "python",
   "name": "python3"
  },
  "language_info": {
   "codemirror_mode": {
    "name": "ipython",
    "version": 3
   },
   "file_extension": ".py",
   "mimetype": "text/x-python",
   "name": "python",
   "nbconvert_exporter": "python",
   "pygments_lexer": "ipython3",
   "version": "3.8.6"
  }
 },
 "nbformat": 4,
 "nbformat_minor": 4
}
