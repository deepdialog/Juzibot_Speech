{
 "cells": [
  {
   "cell_type": "code",
   "execution_count": 34,
   "metadata": {},
   "outputs": [],
   "source": [
    "import time\n",
    "import requests"
   ]
  },
  {
   "cell_type": "code",
   "execution_count": 44,
   "metadata": {},
   "outputs": [],
   "source": [
    "apikey = 'Vgv9AkE84aKhU4nrtQKA8ZK6skasLNQGcCYSJ/TVM5HkXj0IP+nJqg=='\n",
    "apisecret = 'pbfgv2vjBIswRvWz3SDdNz0K4qpSxBlRSyLLZJa6se8OZLqeRaa2BQ=='"
   ]
  },
  {
   "cell_type": "code",
   "execution_count": 45,
   "metadata": {},
   "outputs": [],
   "source": [
    "question = '孙悟空能不能打过路飞？'"
   ]
  },
  {
   "cell_type": "code",
   "execution_count": 46,
   "metadata": {},
   "outputs": [],
   "source": [
    "ret = requests.post(\n",
    "    'https://pretrain.aminer.cn/api/v1/qa',\n",
    "    json={\n",
    "        \"key\":\"queue1\",\n",
    "        \"apikey\": apikey, \n",
    "        \"apisecret\": apisecret,\n",
    "        \"question\": question,\n",
    "        \"desc\": \"\"\n",
    "    }\n",
    ")"
   ]
  },
  {
   "cell_type": "code",
   "execution_count": 48,
   "metadata": {},
   "outputs": [
    {
     "name": "stdout",
     "output_type": "stream",
     "text": [
      "112\n",
      "说不定打不过。那孙悟空打路飞,就相当于现在的路飞一块去砍敌塔了。相对路飞,孙悟空的机动性太差了,装备也差,只能凭气势和信心去打。路飞是天上飞的,孙悟空是地下跑的,身体素质不是一个等级。\n"
     ]
    }
   ],
   "source": [
    "for i in range(200):\n",
    "    ret2 = requests.get(\n",
    "        'https://pretrain.aminer.cn/api/v1/status',\n",
    "        params=[('task_id', ret.json()['result']['task_id'])]\n",
    "    )\n",
    "    if '' in ret2.json()['result']:\n",
    "        print(i)\n",
    "        print(ret2.json()['result']['output']['text'])\n",
    "        break\n",
    "    else:\n",
    "        time.sleep(1)"
   ]
  },
  {
   "cell_type": "code",
   "execution_count": null,
   "metadata": {},
   "outputs": [],
   "source": []
  }
 ],
 "metadata": {
  "kernelspec": {
   "display_name": "Python 3",
   "language": "python",
   "name": "python3"
  },
  "language_info": {
   "codemirror_mode": {
    "name": "ipython",
    "version": 3
   },
   "file_extension": ".py",
   "mimetype": "text/x-python",
   "name": "python",
   "nbconvert_exporter": "python",
   "pygments_lexer": "ipython3",
   "version": "3.8.6"
  }
 },
 "nbformat": 4,
 "nbformat_minor": 4
}
