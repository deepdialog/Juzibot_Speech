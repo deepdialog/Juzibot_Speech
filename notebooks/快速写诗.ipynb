{
 "cells": [
  {
   "cell_type": "code",
   "execution_count": 19,
   "metadata": {},
   "outputs": [],
   "source": [
    "import requests"
   ]
  },
  {
   "cell_type": "code",
   "execution_count": 31,
   "metadata": {},
   "outputs": [],
   "source": [
    "apikey = 'UZBWkrAt0k20jHEA70XhPY+s6aMXWYpHraQkcVNU8xW1IUUzvqYK0w=='\n",
    "apisecret = 'iSW6DxQgcuj15/Hc059xZU1Y1ExW0sMrJHP2aUMWuLvpZ4Ccds2Smg=='"
   ]
  },
  {
   "cell_type": "code",
   "execution_count": 32,
   "metadata": {},
   "outputs": [],
   "source": [
    "ret = requests.post(\n",
    "    'https://pretrain.aminer.cn/api/v1/poem',\n",
    "    json={\n",
    "        \"key\":\"queue1\",\n",
    "        \"topic\": \"随便\",\n",
    "        \"author\":\"随便\",\n",
    "        \"speed\": \"fast\",\n",
    "        \"apikey\": apikey, \n",
    "        \"apisecret\": apisecret\n",
    "    }\n",
    ")"
   ]
  },
  {
   "cell_type": "code",
   "execution_count": 33,
   "metadata": {},
   "outputs": [
    {
     "data": {
      "text/plain": [
       "{'message': 'success',\n",
       " 'result': {'app': 'write_poem_fast',\n",
       "  'created_at': 'Sat, 09 Oct 2021 22:28:04 GMT',\n",
       "  'input': {'author': '随便',\n",
       "   'desc': '',\n",
       "   'emo': '',\n",
       "   'speed': 'fast',\n",
       "   'text': '随便'},\n",
       "  'output': {'text': '心动来时天亦惊,病身翻感少年醒。黄花似酒偏宜醉,白面如霜不近行。饱带饥餐真个是,贫将病折也相形。不须更说东堂事,自有先生主此营。'},\n",
       "  'process_time': 3.3915798664093018,\n",
       "  'task_id': '616217718ab56629f47ec8c7',\n",
       "  'updated_at': 'Sat, 09 Oct 2021 22:28:04 GMT',\n",
       "  'user': {'appId': '61230a1711493808a7c294fc',\n",
       "   'id': '648',\n",
       "   'name': 'qhduan'}},\n",
       " 'status': 0}"
      ]
     },
     "execution_count": 33,
     "metadata": {},
     "output_type": "execute_result"
    }
   ],
   "source": [
    "ret.json()"
   ]
  },
  {
   "cell_type": "code",
   "execution_count": null,
   "metadata": {},
   "outputs": [],
   "source": []
  },
  {
   "cell_type": "code",
   "execution_count": 30,
   "metadata": {},
   "outputs": [
    {
     "data": {
      "text/plain": [
       "'不因春色醉东园,乱点新花千万朵。不却因人忆故园?强拖欲去又难舍。残妆和泪湿红绡,西去也遮东望客。睡醒眼前浑似梦,但知无意更逢何。'"
      ]
     },
     "execution_count": 30,
     "metadata": {},
     "output_type": "execute_result"
    }
   ],
   "source": [
    "ret.json()['result']['output']['text']"
   ]
  },
  {
   "cell_type": "code",
   "execution_count": 29,
   "metadata": {},
   "outputs": [
    {
     "data": {
      "text/plain": [
       "{'message': 'success',\n",
       " 'result': {'app': 'write_poem_fast',\n",
       "  'created_at': 'Sat, 09 Oct 2021 22:13:41 GMT',\n",
       "  'input': {'author': '随便',\n",
       "   'desc': '',\n",
       "   'emo': '',\n",
       "   'speed': 'fast',\n",
       "   'text': '随便'},\n",
       "  'output': {'text': '不因春色醉东园,乱点新花千万朵。不却因人忆故园?强拖欲去又难舍。残妆和泪湿红绡,西去也遮东望客。睡醒眼前浑似梦,但知无意更逢何。'},\n",
       "  'process_time': 5.162242412567139,\n",
       "  'task_id': '6162141093574adca7d09a7c',\n",
       "  'updated_at': 'Sat, 09 Oct 2021 22:13:41 GMT',\n",
       "  'user': {'appId': '61230a1711493808a7c294fc',\n",
       "   'id': '648',\n",
       "   'name': 'qhduan'}},\n",
       " 'status': 0}"
      ]
     },
     "execution_count": 29,
     "metadata": {},
     "output_type": "execute_result"
    }
   ],
   "source": [
    "ret.json()"
   ]
  },
  {
   "cell_type": "code",
   "execution_count": null,
   "metadata": {},
   "outputs": [],
   "source": []
  }
 ],
 "metadata": {
  "kernelspec": {
   "display_name": "Python 3",
   "language": "python",
   "name": "python3"
  },
  "language_info": {
   "codemirror_mode": {
    "name": "ipython",
    "version": 3
   },
   "file_extension": ".py",
   "mimetype": "text/x-python",
   "name": "python",
   "nbconvert_exporter": "python",
   "pygments_lexer": "ipython3",
   "version": "3.8.6"
  }
 },
 "nbformat": 4,
 "nbformat_minor": 4
}
